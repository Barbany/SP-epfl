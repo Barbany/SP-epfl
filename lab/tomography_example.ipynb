{
 "cells": [
  {
   "cell_type": "markdown",
   "metadata": {},
   "source": [
    "# Simple tomography code examples\n",
    "\n",
    "In this notebook, we'll try to go over the fundamental concepts of tomography:\n",
    "1. Projections\n",
    "2. Radon transform\n",
    "3. Backprojection\n",
    "4. Filtered backprojection\n"
   ]
  },
  {
   "cell_type": "code",
   "execution_count": null,
   "metadata": {},
   "outputs": [],
   "source": [
    "import numpy as np\n",
    "import matplotlib.pyplot as plt\n",
    "from skimage import data_dir\n",
    "from skimage.transform import radon, iradon, rescale\n",
    "from skimage.io import imread\n",
    "\n",
    "%matplotlib inline"
   ]
  },
  {
   "cell_type": "markdown",
   "metadata": {},
   "source": [
    "We load a few images to play with. Two of these images have been generated and one is the famous Shepp-Logan phantom."
   ]
  },
  {
   "cell_type": "code",
   "execution_count": null,
   "metadata": {},
   "outputs": [],
   "source": [
    "# Two images stored locally (you should have copied them)\n",
    "image1 = imread('image1.bmp', as_gray=True)\n",
    "image2 = imread('image2.bmp', as_gray=True)\n",
    "# Load the phantom image from the scikit-learn data set\n",
    "phantom_image = imread(data_dir + \"/phantom.png\", as_gray=True)\n",
    "\n",
    "use_circle = False\n",
    "\n",
    "# Plot the loaded images\n",
    "fig, (ax1, ax2, ax3) = plt.subplots(1,3, figsize = (10,20))\n",
    "plt.gray()\n",
    "ax1.imshow(image1)\n",
    "ax1.set_title('image1.bmp')\n",
    "ax2.imshow(image2)\n",
    "ax2.set_title('image2.bmp')\n",
    "ax3.imshow(phantom_image)\n",
    "ax3.set_title('phantom.png')\n",
    "plt.show()"
   ]
  },
  {
   "cell_type": "markdown",
   "metadata": {},
   "source": [
    "# Projections along a single angle"
   ]
  },
  {
   "cell_type": "code",
   "execution_count": null,
   "metadata": {},
   "outputs": [],
   "source": [
    "# Now we take a projection along two angles, 0 and 90 degrees\n",
    "theta = np.array([0, 90])\n",
    "\n",
    "p_theta_1 = radon(image1, theta, circle=use_circle)\n",
    "p_theta_2 = radon(image2, theta, circle=use_circle)\n",
    "p_theta_3 = radon(phantom_image, theta, circle=use_circle)\n",
    "\n",
    "# Plot the three projections\n",
    "fig, (ax1, ax2, ax3) = plt.subplots(1, 3, figsize = (15,3))\n",
    "ax1.plot(p_theta_1)\n",
    "ax2.plot(p_theta_2)\n",
    "ax3.plot(p_theta_3)\n",
    "ax1.set_title(\"projection of image1 at angles \" + str(theta))\n",
    "ax2.set_title(\"projection of image2 at angles \" + str(theta))\n",
    "ax3.set_title(\"projection of phantom at angles \" + str(theta))\n",
    "plt.show()"
   ]
  },
  {
   "cell_type": "markdown",
   "metadata": {},
   "source": [
    "## Radon transform and sinograms"
   ]
  },
  {
   "cell_type": "code",
   "execution_count": null,
   "metadata": {},
   "outputs": [],
   "source": [
    "# Compute sampled Radon transform and plot it as a 2D image,\n",
    "# the so-called sinograms\n",
    "\n",
    "# Number of uniformly taken projections\n",
    "# If 0, the number of projections for any image determined by its size\n",
    "n_projections = 64\n",
    "\n",
    "if n_projections == 0:\n",
    "    theta1 = np.linspace(0., 180., max(image1.shape), endpoint=False)\n",
    "    theta2 = np.linspace(0., 180., max(image2.shape), endpoint=False)\n",
    "    theta3 = np.linspace(0., 180., max(phantom_image.shape), endpoint=False)\n",
    "else:\n",
    "    theta1 = np.linspace(0., 180., n_projections, endpoint=False)\n",
    "    theta2 = np.linspace(0., 180., n_projections, endpoint=False)\n",
    "    theta3 = np.linspace(0., 180., n_projections, endpoint=False)\n",
    "\n",
    "sinogram1 = radon(image1, theta1, circle=use_circle)\n",
    "sinogram2 = radon(image2, theta2, circle=use_circle)\n",
    "sinogram3 = radon(phantom_image, theta3, circle=use_circle)\n",
    "\n",
    "# Plot the three sinograms\n",
    "fig, (ax1, ax2, ax3) = plt.subplots(1, 3, figsize = (15,3))\n",
    "ax1.imshow(sinogram1)\n",
    "ax2.imshow(sinogram2)\n",
    "ax3.imshow(sinogram3)\n",
    "ax1.set_title(\"sinogram of image1 at angle 0\")\n",
    "ax2.set_title(\"sinogram of image2 at angle 0\")\n",
    "ax3.set_title(\"sinogram of phantom at angle 0\")\n",
    "plt.show()"
   ]
  },
  {
   "cell_type": "markdown",
   "metadata": {},
   "source": [
    "## Backprojection"
   ]
  },
  {
   "cell_type": "code",
   "execution_count": null,
   "metadata": {},
   "outputs": [],
   "source": [
    "# Backprojection boils down to smearing the values of line integrals along the lines\n",
    "# on which they were computed\n",
    "# Here we show how the reconstruction improves gradually as we go from backprojecting\n",
    "# a single projection to using all projections\n",
    "# However, even when all projections are used, we don't arrive at the original image\n",
    "n_partial_reconstructions = 4\n",
    "\n",
    "# First image \n",
    "fig, ax = plt.subplots(1, n_partial_reconstructions, figsize = (25,7))\n",
    "n_theta = np.int64(np.linspace(1, len(theta1), n_partial_reconstructions, endpoint=True))\n",
    "i = 0\n",
    "for n in n_theta:\n",
    "    backprojection_i = iradon(sinogram1[:,:n], theta=theta1[:n], \n",
    "                              circle=use_circle, filter=None)\n",
    "    ax[i].imshow(backprojection_i)\n",
    "    ax[i].set_title(\"Backprojection from \" + str(n) + \" projections\")\n",
    "    i = i + 1\n",
    "plt.show()\n",
    "\n",
    "# Second image \n",
    "fig, ax = plt.subplots(1, n_partial_reconstructions, figsize = (25,7))\n",
    "n_theta = np.int64(np.linspace(1, len(theta2), n_partial_reconstructions, endpoint=True))\n",
    "i = 0\n",
    "for n in n_theta:\n",
    "    backprojection_i = iradon(sinogram2[:,:n], theta=theta2[:n], \n",
    "                              circle=use_circle, filter=None)\n",
    "    ax[i].imshow(backprojection_i)\n",
    "    ax[i].set_title(\"Backprojection from \" + str(n) + \" projections\")\n",
    "    i = i + 1\n",
    "plt.show()\n",
    "\n",
    "# Shepp-Logan phantom\n",
    "fig, ax = plt.subplots(1, n_partial_reconstructions, figsize = (25,7))\n",
    "n_theta = np.int64(np.linspace(1, len(theta3), n_partial_reconstructions, endpoint=True))\n",
    "i = 0\n",
    "for n in n_theta:\n",
    "    backprojection_i = iradon(sinogram3[:,:n], theta=theta3[:n], \n",
    "                              circle=use_circle, filter=None)\n",
    "    ax[i].imshow(backprojection_i)\n",
    "    ax[i].set_title(\"Backprojection from \" + str(n) + \" projections\")\n",
    "    i = i + 1\n",
    "plt.show()"
   ]
  },
  {
   "cell_type": "markdown",
   "metadata": {},
   "source": [
    "## Filtered backprojection"
   ]
  },
  {
   "cell_type": "code",
   "execution_count": null,
   "metadata": {},
   "outputs": [],
   "source": [
    "# We gradually compute the filtered backprojection for all three sinograms\n",
    "# We want to show how the reconstruction improves gradually as we go from\n",
    "# a single projection to using all projections, and that we come very close\n",
    "# to the original image at the end\n",
    "# Note the use of a filter that gets applied to every projection\n",
    "\n",
    "n_partial_reconstructions = 4\n",
    "\n",
    "# First image \n",
    "fig, ax = plt.subplots(1, n_partial_reconstructions, figsize = (25,7))\n",
    "n_theta = np.int64(np.linspace(1, len(theta1), n_partial_reconstructions, endpoint=True))\n",
    "i = 0\n",
    "for n in n_theta:\n",
    "    filtered_backprojection_i = iradon(sinogram1[:,:n], theta=theta1[:n], \n",
    "                                       circle=use_circle, filter='hamming')\n",
    "    ax[i].imshow(filtered_backprojection_i)\n",
    "    ax[i].set_title(\"Filtered backprojection from \" + str(n) + \" projections\")\n",
    "    i = i + 1\n",
    "plt.show()\n",
    "\n",
    "# Second image \n",
    "fig, ax = plt.subplots(1, n_partial_reconstructions, figsize = (25,7))\n",
    "n_theta = np.int64(np.linspace(1, len(theta2), n_partial_reconstructions, endpoint=True))\n",
    "i = 0\n",
    "for n in n_theta:\n",
    "    filtered_backprojection_i = iradon(sinogram2[:,:n], theta=theta2[:n], \n",
    "                                       circle=use_circle, filter='hamming')\n",
    "    ax[i].imshow(filtered_backprojection_i)\n",
    "    ax[i].set_title(\"Filtered backprojection from \" + str(n) + \" projections\")\n",
    "    i = i + 1\n",
    "plt.show()\n",
    "\n",
    "# Shepp-Logan phantom\n",
    "fig, ax = plt.subplots(1, n_partial_reconstructions, figsize = (25,7))\n",
    "n_theta = np.int64(np.linspace(1, len(theta3), n_partial_reconstructions, endpoint=True))\n",
    "i = 0\n",
    "for n in n_theta:\n",
    "    filtered_backprojection_i = iradon(sinogram3[:,:n], theta=theta3[:n], \n",
    "                                       circle=use_circle, filter='hamming')\n",
    "    ax[i].imshow(filtered_backprojection_i)\n",
    "    ax[i].set_title(\"Filtered backprojection from \" + str(n) + \" projections\")\n",
    "    i = i + 1\n",
    "plt.show()"
   ]
  }
 ],
 "metadata": {
  "celltoolbar": "Raw Cell Format",
  "kernelspec": {
   "display_name": "Python 3",
   "language": "python",
   "name": "python3"
  },
  "language_info": {
   "codemirror_mode": {
    "name": "ipython",
    "version": 3
   },
   "file_extension": ".py",
   "mimetype": "text/x-python",
   "name": "python",
   "nbconvert_exporter": "python",
   "pygments_lexer": "ipython3",
   "version": "3.6.7"
  }
 },
 "nbformat": 4,
 "nbformat_minor": 2
}
