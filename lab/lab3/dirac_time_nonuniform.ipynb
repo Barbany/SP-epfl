{
 "cells": [
  {
   "cell_type": "code",
   "execution_count": 1,
   "metadata": {},
   "outputs": [],
   "source": [
    "import os\n",
    "import sys\n",
    "\n",
    "import numpy as np\n",
    "from scipy import linalg\n",
    "from matplotlib import style\n",
    "import matplotlib.pyplot as plt\n",
    "style.use('seaborn-darkgrid')\n",
    "\n",
    "sys.path.append('../')\n",
    "from alg_tools_1d import dirac_recon_time, periodicSinc, distance"
   ]
  },
  {
   "cell_type": "code",
   "execution_count": 2,
   "metadata": {},
   "outputs": [],
   "source": [
    "'''utility functions used for plotting'''\n",
    "def plot_dirac(tk, ak, color='red', marker='*', ax=None, label=''):\n",
    "    if ax is None:\n",
    "        fig = plt.figure()\n",
    "        ax = plt.gca()\n",
    "    markerline211_1, stemlines211_1, baseline211_1 = \\\n",
    "        ax.stem(tk, ak, label=label, use_line_collection=True)\n",
    "    plt.setp(stemlines211_1, linewidth=1.5, color=color)\n",
    "    plt.setp(markerline211_1, marker=marker, linewidth=1.5, markersize=8,\n",
    "             markerfacecolor=color, mec=color)\n",
    "    plt.setp(baseline211_1, linewidth=0)\n",
    "    plt.xlabel('t')\n",
    "    plt.ylabel('amplitude')\n",
    "    plt.xlim([0, TAU])\n",
    "#     plt.axhline(0, color='k')\n",
    "    \n",
    "def plot_diracs(ax1, tk, ak, tk_recon, ak_recon, title):\n",
    "    c1 = [0, 0.447, 0.741]\n",
    "    m1 ='^'\n",
    "    plot_dirac(tk, ak, c1, m1, ax=ax1, label='Original Diracs')\n",
    "    \n",
    "    c2 = [0.850, 0.325, 0.098]\n",
    "    m2 = '*'\n",
    "    plot_dirac(tk_recon, ak_recon, c2, m2, ax=ax1, label='Estimated Diracs')\n",
    "\n",
    "    plt.axhline(0, color='k')\n",
    "    plt.ylim([1.17 * np.min(np.concatenate((ak, ak_recon, np.array(0)[np.newaxis]))),\n",
    "              1.17 * np.max(np.concatenate((ak, ak_recon, np.array(0)[np.newaxis])))])\n",
    "    plt.ylabel('amplitudes', fontsize=12)\n",
    "    ax1.yaxis.set_label_coords(-0.095, 0.5)\n",
    "    plt.legend(numpoints=1, loc=0, fontsize=9, framealpha=0.3,\n",
    "               handletextpad=.2, columnspacing=0.6, labelspacing=0.05, ncol=2)\n",
    "    plt.title(title, fontsize=12)"
   ]
  },
  {
   "cell_type": "markdown",
   "metadata": {},
   "source": [
    "# Overview \n",
    "\n",
    "This notebook explains how to reconstruct a signal consisting of a $\\tau$-periodic stream of Diracs at unknown locations. We will apply the following standard FRI-based workflow. \n",
    "\n",
    "## 1. Generate signal\n",
    "\n",
    "We generate the FRI signal which we will then try reconstruct:\n",
    "\n",
    "<br><center>\n",
    "$ \\displaystyle x = \\sum_{k' \\in \\mathbb{Z}} \\sum_{k=1}^{K}  \\alpha_k \\delta(t - t_k - k' \\tau ) $ (1) \n",
    "</center>\n",
    "\n",
    "*CODE: Inspect the signal and make sure you understand its parameters.*\n"
   ]
  },
  {
   "cell_type": "code",
   "execution_count": 3,
   "metadata": {},
   "outputs": [
    {
     "data": {
      "image/png": "[encoded data removed]",
      "text/plain": [
       "<Figure size 432x288 with 1 Axes>"
      ]
     },
     "metadata": {
      "needs_background": "light"
     },
     "output_type": "display_data"
    }
   ],
   "source": [
    "np.random.seed(7)\n",
    "\n",
    "K = 5  # number of Diracs\n",
    "TAU = 1  # period of the Dirac stream\n",
    "\n",
    "# amplitudes of the Diracs\n",
    "ak = np.sign(np.random.randn(K)) * (1 + (np.random.rand(K) - 0.5) / 1.)\n",
    "\n",
    "# locations of the Diracs\n",
    "tk = np.random.rand(K) * TAU\n",
    "\n",
    "# plot the signal.\n",
    "plot_dirac(tk, ak)"
   ]
  },
  {
   "cell_type": "markdown",
   "metadata": {},
   "source": [
    "## 2. Simulate measurements\n",
    "\n",
    "We also simulate measurements by constructing a non-uniformly sampled, low-pass filtered signal, and add measurement noise\n",
    "$$y_{\\ell} = \\sum_{k=1}^K \\alpha_k \\varphi(t_{\\ell}' - t_k),$$\n",
    "for $\\ell=1,\\cdots,L$. Here $\\varphi(t)=\\frac{\\sin(\\pi B t)}{B\\tau\\sin(\\pi t / \\tau)}$ and $B$ is the bandwidth of the ideal lowpass filter.\n",
    "\n",
    "*CODE: Do you understand the values of $M$, $B$ and $L$ in the code snippet below?*\n",
    "\n",
    "*CODE: Generate the signal $y_\\ell$ and add noise.*"
   ]
  },
  {
   "cell_type": "code",
   "execution_count": 4,
   "metadata": {},
   "outputs": [
    {
     "data": {
      "image/png": "[encoded data removed]",
      "text/plain": [
       "<Figure size 432x288 with 1 Axes>"
      ]
     },
     "metadata": {
      "needs_background": "light"
     },
     "output_type": "display_data"
    }
   ],
   "source": [
    "np.random.seed(3)\n",
    "\n",
    "def generate_noisy_signal(signal, SNR=None, sigma_noise=None): \n",
    "    ''' Add noise to given signal. \n",
    "    \n",
    "    If SNR is given: generate signal such that resulting SNR equals SNR.\n",
    "    If sigma_noise is given: add Gaussian noise of standard deviation sigma_noise.\n",
    "    \n",
    "    :param SNR: desired SNR (in dB). \n",
    "    :param sigma_noise: desired standard deviation. \n",
    "    \n",
    "    :return: noisy signal, noise vector\n",
    "    \n",
    "    '''\n",
    "    if SNR is not None: \n",
    "        noise = np.random.randn(len(signal))\n",
    "        noise = noise / linalg.norm(noise) * linalg.norm(signal) * 10 ** (-SNR / 20.)\n",
    "    elif sigma_noise is not None:\n",
    "        noise = np.random.normal(scale=sigma_noise, loc=0, size=signal.shape)\n",
    "    return signal + noise, noise\n",
    "\n",
    "def generate_time_samples(tau, L):\n",
    "    ''' Generate L randomly distributed time instances. '''\n",
    "    # number of time domain samples\n",
    "    Tmax = tau / L  # the average sampling step size (had we used a uniform sampling setup)\n",
    "\n",
    "    # generate the random sampling time instances\n",
    "    t_samp = np.arange(0, L, dtype=float) * Tmax\n",
    "    t_samp += np.sign(np.random.randn(L)) * np.random.rand(L) * Tmax / 2.\n",
    "    # round t_samp to [0, tau)\n",
    "    t_samp -= np.floor(t_samp / tau) * tau\n",
    "    return t_samp\n",
    "\n",
    "def phi(t):\n",
    "    ''' Dirichlet kernel evaluated at t. '''\n",
    "    numerator = np.sin(np.pi * B * t)\n",
    "    denominator = B * TAU * np.sin(np.pi * t / TAU)\n",
    "    \n",
    "    idx = np.abs(denominator) < 1e-12\n",
    "    \n",
    "    numerator[idx] = np.cos(np.pi * B * t[idx])\n",
    "    denominator[idx] = np.cos(np.pi * t[idx] / TAU)\n",
    "    return numerator / denominator\n",
    "\n",
    "M = K # number of Fourier samples (at least K)\n",
    "B = (2. * M + 1.) / TAU  # bandwidth of the sampling filter\n",
    "L = (2 * M + 1) # number of time samples\n",
    "\n",
    "# measured signal\n",
    "t_samp = generate_time_samples(TAU, L)\n",
    "\n",
    "#################### CALCULATE SAMPLES y_l #####################\n",
    "\n",
    "## sampled version\n",
    "tl_grid, tk_grid = np.meshgrid(tk, t_samp)\n",
    "y_ell_samp = ak.T @ phi(tl_grid - tk_grid).T\n",
    "\n",
    "\n",
    "## continuous version\n",
    "t_continuous = np.linspace(0, TAU, 10000)\n",
    "tl_grid, tk_grid = np.meshgrid(tk, t_continuous)\n",
    "y_ell_continuous = ak.T @ phi(tl_grid - tk_grid).T\n",
    "\n",
    "## generate noisy signal\n",
    "# SNR level\n",
    "P = np.inf  # i.e., noiseless\n",
    "# P = 10  # SNR = 10dB\n",
    "\n",
    "y_ell, noise = generate_noisy_signal(y_ell_samp, SNR=P)\n",
    "\n",
    "# plot the signal\n",
    "plt.figure()\n",
    "plt.plot(t_continuous, y_ell_continuous, color='grey', label='continuous')\n",
    "plt.plot(t_samp, y_ell_samp, linestyle='', marker='+', label='samples')\n",
    "plt.plot(t_samp, y_ell, linestyle='', marker='x', label='noisy samples')\n",
    "plot_dirac(tk, ak, label='ground truth', ax=plt.gca())\n",
    "plt.xlabel('t')\n",
    "plt.legend()\n",
    "plt.show()"
   ]
  },
  {
   "cell_type": "markdown",
   "metadata": {},
   "source": [
    "## 3. Find standard form\n",
    "\n",
    "Since the signal it is FRI, we know that we can find a signal of the standard form with a 1-to-1 relation to the original signal:\n",
    "\n",
    "<center>\n",
    "$ \\displaystyle\\hat{x}_m = \\sum_{k=1}^{K} \\beta_k u_k^m $ (2) \n",
    "</center>\n",
    "\n",
    "*PEN AND PAPER: Find values of $\\beta_k$ and $u_k$*. \n",
    "\n",
    "*CODE: Implement standard form below*. \n",
    "\n",
    "<br> \n",
    "Since the above holds, we know that the signal can be anihilated by a filter $h$. \n",
    "\n",
    "*OPTIONAL: Show that for this simple example, this filter is given by*\n",
    "\n",
    "$$ H(z) = h_0 \\prod_{k=1}^K (1 - u_k z^{-1}) $$"
   ]
  },
  {
   "cell_type": "code",
   "execution_count": 5,
   "metadata": {},
   "outputs": [],
   "source": [
    "def get_standard_form(ak, tk):\n",
    "    ''' \n",
    "    :param ak: vector of Dirac amplitudes\n",
    "    :param tk: vector of Dirac locations\n",
    "\n",
    "    :return: vector of standard form coefficients\n",
    "    '''\n",
    "    ms = np.arange(-np.floor(B * TAU / 2.), 1 + np.floor(B * TAU / 2.))\n",
    "    tk_grid, m_grid_gt = np.meshgrid(tk, ms)\n",
    "    \n",
    "    x_hat = 1. / TAU * np.exp(-2j * np.pi / TAU * m_grid_gt * tk_grid) @ ak\n",
    "    return x_hat\n",
    "\n",
    "x_hat = get_standard_form(ak, tk)"
   ]
  },
  {
   "cell_type": "markdown",
   "metadata": {},
   "source": [
    "## 4. Find and implement $ G $ \n",
    "\n",
    "Once the signal is in form of Eq-(2), we need to identify how it is related to measurements $y$. \n",
    "\n",
    "*PEN AND PAPER: find the expression of matrix $G$ such that $ G \\hat{x} = y$*\n",
    "\n",
    "*CODE: implement G below.*"
   ]
  },
  {
   "cell_type": "code",
   "execution_count": 6,
   "metadata": {},
   "outputs": [],
   "source": [
    "def get_G(t_samp):\n",
    "    '''\n",
    "    Compute G such that y=Gx\n",
    "    \n",
    "    :param t_samp: vector of sampling times.\n",
    "    :return: matrix G \n",
    "    '''\n",
    "    m_grid, t_samp_grid = np.meshgrid(np.arange(-np.floor(B * TAU / 2.), 1 + np.floor(B * TAU / 2.)), t_samp)\n",
    "    G = 1. / B * np.exp(2j * np.pi / TAU * m_grid * t_samp_grid)\n",
    "    return G\n",
    "\n",
    "G = get_G(t_samp)\n",
    "\n",
    "## generate noiseless signal\n",
    "y_ell_test = np.real(np.dot(G, x_hat))\n",
    "\n",
    "assert np.isclose(y_ell_samp, y_ell_test).all()"
   ]
  },
  {
   "cell_type": "markdown",
   "metadata": {},
   "source": [
    "## 5. Solve optimization\n",
    "\n",
    "Now we have all the ingredients to solve the optimization of the form: \n",
    "\n",
    "<center>\n",
    "find $ \\hat{x}, h $ \n",
    "</center>\n",
    "\n",
    "<center>\n",
    "such that $ || y - G \\hat{x} ||_2 \\leq \\varepsilon $\n",
    "</center>\n",
    "\n",
    "<center>\n",
    "and $ \\hat{x} * h = 0 $\n",
    "</center>\n",
    "\n",
    "*CODE: you do not have to implement this part, just inspect the obtained solution and make sure it is correct.*"
   ]
  },
  {
   "cell_type": "code",
   "execution_count": 7,
   "metadata": {},
   "outputs": [
    {
     "name": "stdout",
     "output_type": "stream",
     "text": [
      "Noise level: 1.00e-10\n",
      "Minimum approximation error |a - Gb|_2: 2.80e-15\n"
     ]
    }
   ],
   "source": [
    "# noise energy, in the noiseless case 1e-10 is considered as 0\n",
    "noise_level = np.max([1e-10, linalg.norm(noise)])\n",
    "max_ini = 100  # maximum number of random initialisations\n",
    "xhat_recon, min_error, c_opt, ini = dirac_recon_time(G, y_ell, K, noise_level, max_ini)\n",
    "\n",
    "#################### VERIFY IF xhat_recon IS CORRECT #####################\n",
    "assert np.allclose(xhat_recon, x_hat)\n",
    "\n",
    "print('Noise level: {:.2e}'.format(noise_level))\n",
    "print('Minimum approximation error |a - Gb|_2: {:.2e}'.format(min_error))"
   ]
  },
  {
   "cell_type": "markdown",
   "metadata": {},
   "source": [
    "## 6. Reconstruct original signal\n",
    "\n",
    "Now that we have extracted the filter and $\\hat{x}$, what would you do to find the signal's parameters ?"
   ]
  },
  {
   "cell_type": "code",
   "execution_count": 8,
   "metadata": {},
   "outputs": [
    {
     "name": "stdout",
     "output_type": "stream",
     "text": [
      "location error: 1.05e-15\n"
     ]
    }
   ],
   "source": [
    "def get_locations(c_opt):\n",
    "    '''\n",
    "    Get dirac locations from filter coefficients.  \n",
    "    \n",
    "    :param c_opt: vector of annihilating filter coefficients\n",
    "    \n",
    "    :return: vector of dirac locations (between 0 and TAU)\n",
    "    '''\n",
    "\n",
    "    ############### GET tk_recon FROM RECONSTRUCTED FILTER ##################\n",
    "    z = np.roots(c_opt)\n",
    "    z = z / np.abs(z)\n",
    "    tk_recon = np.real(TAU * 1j / (2 * np.pi) * np.log(z))\n",
    "    tk_recon = np.sort(tk_recon - np.floor(tk_recon / TAU) * TAU)\n",
    "    return tk_recon\n",
    "\n",
    "tk_recon = get_locations(c_opt)\n",
    "\n",
    "# location estimation error\n",
    "t_error = distance(tk_recon, tk)[0]\n",
    "print('location error: {:.2e}'.format(t_error))"
   ]
  },
  {
   "cell_type": "code",
   "execution_count": 9,
   "metadata": {},
   "outputs": [
    {
     "name": "stdout",
     "output_type": "stream",
     "text": [
      "amplitude error: 1.95e-14\n"
     ]
    }
   ],
   "source": [
    "def get_amplitudes(tk_recon, t_samp, y_ell):\n",
    "    '''\n",
    "    Get dirac amplitudes. \n",
    "    \n",
    "    :tk_recon: vector of dirac locations.\n",
    "    :t_samp: vector of sampling times\n",
    "    :y_ell: vector of measurements\n",
    "    \n",
    "    :return: vector of amplitudes of diracs. \n",
    "    '''\n",
    "    tl_grid, tk_grid = np.meshgrid(tk_recon, t_samp)\n",
    "    Phi_recon = phi(tl_grid - tk_grid)\n",
    "    ak_recon = np.real(linalg.lstsq(Phi_recon, y_ell)[0])\n",
    "    \n",
    "    return ak_recon\n",
    "\n",
    "ak_recon = get_amplitudes(tk_recon, t_samp, y_ell)\n",
    "\n",
    "a_error = distance(ak_recon, ak)[0]\n",
    "print('amplitude error: {:.2e}'.format(a_error))"
   ]
  },
  {
   "cell_type": "code",
   "execution_count": 10,
   "metadata": {},
   "outputs": [
    {
     "data": {
      "image/png": "[encoded data removed]",
      "text/plain": [
       "<Figure size 495x225 with 1 Axes>"
      ]
     },
     "metadata": {
      "needs_background": "light"
     },
     "output_type": "display_data"
    }
   ],
   "source": [
    "fig = plt.figure(num=1, figsize=(5.5, 2.5), dpi=90)\n",
    "ax1 = plt.axes([0.125, 0.59, 0.85, 0.31])\n",
    "\n",
    "t_error_pow = np.int(np.floor(np.log10(t_error)))\n",
    "title = 'reconstructed vs. original signal'\n",
    "plot_diracs(ax1, tk, ak, tk_recon, ak_recon, title)"
   ]
  }
 ],
 "metadata": {
  "kernelspec": {
   "display_name": "Python-deep",
   "language": "python",
   "name": "envname"
  },
  "language_info": {
   "codemirror_mode": {
    "name": "ipython",
    "version": 3
   },
   "file_extension": ".py",
   "mimetype": "text/x-python",
   "name": "python",
   "nbconvert_exporter": "python",
   "pygments_lexer": "ipython3",
   "version": "3.7.3"
  }
 },
 "nbformat": 4,
 "nbformat_minor": 2
}
