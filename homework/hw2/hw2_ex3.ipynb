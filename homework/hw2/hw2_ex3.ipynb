{
 "cells": [
  {
   "cell_type": "markdown",
   "metadata": {},
   "source": [
    "# Tomographic reconstruction from a rectangular array\n",
    "\n",
    "In this exercise, you will go from setting up a model of tomographic measurement to reconstructing an attenuation distribution from noisy beam measurements.\n",
    "\n",
    "The domain in which the attenuation distribution is reconstructed is rectangular, of given width and length. In the particular example that you will work with, this domain is square of length 1 meter, but length and width could have any value. You can assume that the lower-left corner of the reconstructed domain is the origin itself.\n",
    "\n",
    "You'll work with algebraic reconstruction, so the first thing that you probably want to do is to discretize the domain by representing it as a weighted sum of basis functions. To make things simple, we suggest you choose basis functions with the shape of a disc whose radius $r$ is related to interpixel distance $d$ by $r = \\tfrac{d}{\\sqrt{2}}$, as illustrated in the figure below.\n",
    "\n",
    "<img src=\"grid_round_pixels.png\">\n",
    "\n",
    "We also suggest to model beams as infinitely thin lines, such that the inner product between the k-th pixel and i-th beam, $\\langle \\phi_k, h_i \\rangle$, equals the length of the beam's segment that lies inside that pixel, as illustrated in the following figure:\n",
    "\n",
    "<img src=\"beam_and_round_pixel.png\">\n",
    "\n",
    "In the first part of the exercise, you will construct the measurement matrix $A$. In order to help you achieve this, we suggested to implement a few functions that can be used to that end; however, if you prefer to do it differently, you're welcome to take your own route.\n",
    "\n",
    "Beams are lines defined by their endpoints, given in two matrices: **beam_start** and **beam_end**. Each is of size $n_{\\it beams}\\times 2$, where $n_{\\it beams}$ is the number of beams. The i-th row of **beam_start** contains the $(x,y)$ coordinates of the start of beam $i$, while the i-th row of **beam_end** contains the $(x,y)$ coordinates of the end of beam $i$. Those two matrices should be enough for you to determine the line parametrization, given by $(\\theta_i,t_i)$, of every beam. If you forgot, $\\theta\\in[0,\\pi)$ is the angle of the line normal, while $t$ is the signed distance of the line to the origin, along the direction defined by $\\theta$.\n",
    "\n",
    "When you have computed the line parameterization for all the beams, you can compute the inner products $\\langle \\phi_k, h_i \\rangle$ mentioned above by finding the length of the intersection between beams and round pixels. With those, you have everything you need to populate the measurement matrix $A$.\n",
    "\n",
    "Once you have the measurement matrix $A$, you should be able to reconstruct the pixel values. The vector with measurements, which we denoted by $b$ in the slides, is given in the variable called **measurement**.\n",
    "\n",
    "The algorithms for algebraic reconstruction were described in the lecture and have been shown in the application session. To simplify your life, we provide a separate file **helpers.py** with some of the functions that have been given to you in the solution to the application session, but you're welcome to use the one that you were given earlier this week."
   ]
  },
  {
   "cell_type": "code",
   "execution_count": 58,
   "metadata": {},
   "outputs": [],
   "source": [
    "import numpy as np\n",
    "import matplotlib.pyplot as plt\n",
    "from skimage.io import imread\n",
    "import scipy.io\n",
    "from helpers import backprojection, least_squares\n",
    "\n",
    "%matplotlib inline"
   ]
  },
  {
   "cell_type": "code",
   "execution_count": 2,
   "metadata": {},
   "outputs": [
    {
     "data": {
      "image/png": "[encoded data removed]",
      "text/plain": [
       "<Figure size 720x720 with 1 Axes>"
      ]
     },
     "metadata": {
      "needs_background": "light"
     },
     "output_type": "display_data"
    }
   ],
   "source": [
    "# Load the relevant data from the given .mat file.\n",
    "data = scipy.io.loadmat('hw2_ex3.mat')\n",
    "\n",
    "# Read the measurement vector and store it as an array b.\n",
    "b = data['measurement'].squeeze()\n",
    "\n",
    "# Beam start and beam end points.\n",
    "beam_start = data['beam_start']\n",
    "beam_end = data['beam_end']\n",
    "\n",
    "# Length and width of the reconstruction domain (in meters, not in pixels).\n",
    "length = data['length']\n",
    "width = data['width']\n",
    "\n",
    "# Arrays containing positions of all emitters and all detectors\n",
    "# NOTE: not all beams that can be measured are actually measured,\n",
    "#       that's why the measured beams are defined with beam_start and beam_end\n",
    "emitter_pos = data['emitter_pos']\n",
    "detector_pos = data['detector_pos']\n",
    "\n",
    "# Plot the emitters and detectors.\n",
    "fig, ax = plt.subplots(1, 1, figsize = (10,10))\n",
    "plt.scatter(emitter_pos[:,0], emitter_pos[:,1], label='emitters')\n",
    "plt.scatter(detector_pos[:,0], detector_pos[:,1], label='detectors')\n",
    "plt.grid()\n",
    "plt.legend()\n",
    "plt.title(\"Array of emitters and detectors\")\n",
    "plt.show()\n"
   ]
  },
  {
   "cell_type": "markdown",
   "metadata": {},
   "source": [
    "## Generate the measurement matrix"
   ]
  },
  {
   "cell_type": "code",
   "execution_count": 52,
   "metadata": {},
   "outputs": [],
   "source": [
    "def compute_beam_line_params(emit_pos, det_pos):\n",
    "    \"\"\"\n",
    "    Compute the line parameters between points in emit_pos and points in det_pos.\n",
    "    \n",
    "    NOTE: Make sure that the line normals are between 0 and \\pi.\n",
    "    \n",
    "    Arguments:\n",
    "        emit_pos: (n_beams, 2) matrix with emitter positions\n",
    "        det_pos: (n_beams, 2) matrix with detector positions\n",
    "    \n",
    "    Returns: \n",
    "        Matrix (n_beams, 2) of (unit-norm) line normals.\n",
    "        Vector (n_beams,) of line signed-distances from the origin.\n",
    "    \"\"\"\n",
    "    n_beams = emit_pos.shape[0]\n",
    "    beam_normals = np.zeros((n_beams, 2))\n",
    "    beam_dist = np.zeros((n_beams, ))\n",
    "    \n",
    "    for i in range(n_beams):\n",
    "        # Choose a line perpendicular to the line (dx, dy)\n",
    "        # This is parallel to line of interest but going through 0\n",
    "        dx = det_pos[i,0] - emit_pos[i,0]\n",
    "        dy = det_pos[i,1] - emit_pos[i,1]\n",
    "        \n",
    "        beam_normals[i] =  np.array([-dy, dx])\n",
    "        \n",
    "        # Ensure that normal vector have unit norm\n",
    "        beam_normals[i] = beam_normals[i] / (beam_normals[i] @ beam_normals[i])\n",
    "        \n",
    "        beam_dist[i] = beam_normals[i] @ emit_pos[i]\n",
    "        assert np.isclose(beam_normals[i] @ emit_pos[i], beam_normals[i] @ det_pos[i])\n",
    "    \n",
    "    return beam_normals, beam_dist\n",
    "\n",
    "beam_normals, beam_dist = compute_beam_line_params(beam_start, beam_end)"
   ]
  },
  {
   "cell_type": "markdown",
   "metadata": {},
   "source": [
    "Check that the parametrization is indeed correct. Note that $\\text{beam_normals}=(\\cos \\theta , \\sin \\theta)^T$ so for the two end points $(x_1, y_1)$ and $(x_2, y_2)$, we must have $\\text{beam_dist} = x_i \\cos \\theta + y_i \\sin \\theta$"
   ]
  },
  {
   "cell_type": "code",
   "execution_count": 53,
   "metadata": {},
   "outputs": [],
   "source": [
    "for i in range(beam_normals.shape[0]):\n",
    "    assert np.isclose(beam_start[i] @ beam_normals[i], beam_dist[i])\n",
    "    assert np.isclose(beam_end[i] @ beam_normals[i], beam_dist[i])"
   ]
  },
  {
   "cell_type": "code",
   "execution_count": 54,
   "metadata": {},
   "outputs": [],
   "source": [
    "def beam_pixel_intersection_length(beam_normals, beam_dist, pixel_pos, pixel_r):\n",
    "    \"\"\"\n",
    "    Compute the lenght of the intersection between a thin beam and a round (disc) pixel.\n",
    "    \n",
    "    Arguments:\n",
    "        beam_normals: (2,) vector (\\cos(\\theta), \\sin(\\theta)) normal to the beam\n",
    "        beam_dist: signed distance of the beam line to the origin\n",
    "        pixel_pos: (2,) vector with (x,y) coordinates of the pixel\n",
    "        pixel_r: radius of the pixel disc\n",
    "    \n",
    "    Returns:\n",
    "        Length of the beam segment inside the pixel disc.\n",
    "    \"\"\"\n",
    "    # Distance from beam to pixel projected into beam_normal\n",
    "    length = 2 * (pixel_r - np.abs(beam_dist - beam_normals @ pixel_pos))\n",
    "    return length if (length > 0) else 0\n",
    "\n",
    "\n",
    "def construct_forward_matrix(beam_normals, beam_dist, pixel_pos, pixel_r):\n",
    "    \"\"\"\n",
    "    Constructs the forward matrix from beam line parameters and pixel grid parameters.\n",
    "    \n",
    "    Arguments:\n",
    "        beam_normals: (n_beams, 2) matrix with beam normal vectors (\\cos(\\phi_i), \\sin(\\phi_i) in every row\n",
    "        beam_dist: (n_beams,) vector with beams' signed distances from the origin\n",
    "        pixel_pos: (n_pixels, 2) matrix with pixel coordinates (x_i,y_i) in every row\n",
    "        pixel_r: pixel radius\n",
    "    \n",
    "    Returns:\n",
    "        Measurement matrix of size (n_beams, n_pixels) for the given beams\n",
    "        and the given pixel grid.\n",
    "    \"\"\"\n",
    "    n_beams = beam_normals.shape[0]\n",
    "    n_pixels = pixel_pos.shape[0]\n",
    "    \n",
    "    A = np.zeros((n_beams, n_pixels))\n",
    "    for i in range(n_beams):\n",
    "        for j in range(n_pixels):\n",
    "            A[i, j] = beam_pixel_intersection_length(beam_normals[i], beam_dist[i], pixel_pos[j], pixel_r)\n",
    "    \n",
    "    return A\n",
    "                   \n",
    "# Here you can generate the pixel grid.\n",
    "# Hint 1: the number of pixels could be equal to the number of measurements\n",
    "# Hint 2: set pixel sizes according to the number of pixels and the size of the reconstructed domain\n",
    "\n",
    "# The number of measurements\n",
    "n_beams = beam_start.shape[0]\n",
    "\n",
    "# Set N_length and N_width s.t. distance is the same in both axis:\n",
    "# N_width / width = N_length / length (up to roundings)\n",
    "N_length = int(np.sqrt(n_beams) * length / width)\n",
    "N_width = int(N_length * width / length)\n",
    "pixel_r = N_width / (width * np.sqrt(2))\n",
    "\n",
    "Y, X = np.meshgrid(np.linspace(0, 1, N_length), \n",
    "                   np.linspace(0, 1, N_width), indexing='ij')\n",
    "pixel_pos = np.stack((X, Y), axis=-1).reshape((N_length * N_width, 2))\n",
    "\n",
    "A = construct_forward_matrix(beam_normals, beam_dist, pixel_pos, pixel_r)"
   ]
  },
  {
   "cell_type": "markdown",
   "metadata": {},
   "source": [
    "## Reconstruction based on the measurements\n",
    "\n",
    "Now it's time to try to reconstruct the image from measurements. You should use Kaczmarz algorithm that you can implement yourself (interface provided below), and the version you got in the application session earlier this week can be a good start if you don't like to write things from scratch.\n",
    "\n",
    "1. Reconstruct the image using the simplest Kaczmarz algorithm with $2 n_{\\it beams}$ iterations.\n",
    "2. Reconstruct the image using a variation of randomized Kaczmarz algorithm with $2 n_{\\it beams}$ iterations. There are several ways in which you can randomize the order in which projections are applied:\n",
    "    * one variant of the randomized Kaczmarz algorithm projects one row at a time, where rows are not swept through sequentially, but rather at every iteration $k$, a row is selected randomly with probability proportional to its squared $l_2$-norm, $\\|r_i\\|_2^2$\n",
    "    * another variant of the randomized Kaczmarz algorithm sweeps through the rows sequentially, as in the simple version of the algorithm, but rows are randomly permuted at the start.\n",
    "3. Try to reconstruct the image using a modified randomized Kaczmarz algorithm with $2 n_{\\it beams}$ iterations, where upon computing the projection at every iteration $k$, you apply the box constraint $P_{\\cal{C}}(f^{(k)})$, where ${\\cal{C}} = [0,1]^{n_{\\it pixels}}$ and $n_{\\it pixels}$ is the number of pixels.\n",
    "4. Show the results of the three reconstructions.\n",
    "5. Do you notice any difference in the quality of the reconstructions? Which algorithm gives the best results?\n",
    "\n",
    "The images should be two-dimensional. If they appear mirrored or rotated, try to transform them such that you get a good orientation (if your reconstruction is good, you'll have an idea what correction you need)."
   ]
  },
  {
   "cell_type": "code",
   "execution_count": 61,
   "metadata": {},
   "outputs": [],
   "source": [
    "from scipy import sparse\n",
    "\n",
    "A = sparse.csr_matrix(A)"
   ]
  },
  {
   "cell_type": "markdown",
   "metadata": {},
   "source": [
    "First, let's plot the reconstructions obtained by Backprojection and Least Squares as a baseline"
   ]
  },
  {
   "cell_type": "code",
   "execution_count": 62,
   "metadata": {},
   "outputs": [
    {
     "ename": "KeyboardInterrupt",
     "evalue": "",
     "output_type": "error",
     "traceback": [
      "\u001b[0;31m---------------------------------------------------------------------------\u001b[0m",
      "\u001b[0;31mKeyboardInterrupt\u001b[0m                         Traceback (most recent call last)",
      "\u001b[0;32m<ipython-input-62-719b4d95b98a>\u001b[0m in \u001b[0;36m<module>\u001b[0;34m\u001b[0m\n\u001b[1;32m      4\u001b[0m \u001b[0max\u001b[0m\u001b[0;34m[\u001b[0m\u001b[0;36m0\u001b[0m\u001b[0;34m]\u001b[0m\u001b[0;34m.\u001b[0m\u001b[0mset_title\u001b[0m\u001b[0;34m(\u001b[0m\u001b[0;34m'Backprojection'\u001b[0m\u001b[0;34m)\u001b[0m\u001b[0;34m\u001b[0m\u001b[0;34m\u001b[0m\u001b[0m\n\u001b[1;32m      5\u001b[0m \u001b[0;34m\u001b[0m\u001b[0m\n\u001b[0;32m----> 6\u001b[0;31m \u001b[0max\u001b[0m\u001b[0;34m[\u001b[0m\u001b[0;36m1\u001b[0m\u001b[0;34m]\u001b[0m\u001b[0;34m.\u001b[0m\u001b[0mimshow\u001b[0m\u001b[0;34m(\u001b[0m\u001b[0mleast_squares\u001b[0m\u001b[0;34m(\u001b[0m\u001b[0mA\u001b[0m\u001b[0;34m,\u001b[0m \u001b[0mb\u001b[0m\u001b[0;34m)\u001b[0m\u001b[0;34m.\u001b[0m\u001b[0mreshape\u001b[0m\u001b[0;34m(\u001b[0m\u001b[0mN_length\u001b[0m\u001b[0;34m,\u001b[0m \u001b[0mN_width\u001b[0m\u001b[0;34m)\u001b[0m\u001b[0;34m,\u001b[0m \u001b[0mcmap\u001b[0m\u001b[0;34m=\u001b[0m\u001b[0;34m'bone'\u001b[0m\u001b[0;34m)\u001b[0m\u001b[0;34m\u001b[0m\u001b[0;34m\u001b[0m\u001b[0m\n\u001b[0m\u001b[1;32m      7\u001b[0m \u001b[0max\u001b[0m\u001b[0;34m[\u001b[0m\u001b[0;36m1\u001b[0m\u001b[0;34m]\u001b[0m\u001b[0;34m.\u001b[0m\u001b[0mset_title\u001b[0m\u001b[0;34m(\u001b[0m\u001b[0;34m'Least Squares'\u001b[0m\u001b[0;34m)\u001b[0m\u001b[0;34m\u001b[0m\u001b[0;34m\u001b[0m\u001b[0m\n\u001b[1;32m      8\u001b[0m \u001b[0;34m\u001b[0m\u001b[0m\n",
      "\u001b[0;32m~/EPFL/MA3/Signal Processing/Homeworks/hw2_ex3/helpers.py\u001b[0m in \u001b[0;36mleast_squares\u001b[0;34m(S, N, regularize)\u001b[0m\n",
      "\u001b[0;32m~/deep/lib/python3.7/site-packages/scipy/sparse/base.py\u001b[0m in \u001b[0;36m__matmul__\u001b[0;34m(self, other)\u001b[0m\n\u001b[1;32m    559\u001b[0m             raise ValueError(\"Scalar operands are not allowed, \"\n\u001b[1;32m    560\u001b[0m                              \"use '*' instead\")\n\u001b[0;32m--> 561\u001b[0;31m         \u001b[0;32mreturn\u001b[0m \u001b[0mself\u001b[0m\u001b[0;34m.\u001b[0m\u001b[0m__mul__\u001b[0m\u001b[0;34m(\u001b[0m\u001b[0mother\u001b[0m\u001b[0;34m)\u001b[0m\u001b[0;34m\u001b[0m\u001b[0;34m\u001b[0m\u001b[0m\n\u001b[0m\u001b[1;32m    562\u001b[0m \u001b[0;34m\u001b[0m\u001b[0m\n\u001b[1;32m    563\u001b[0m     \u001b[0;32mdef\u001b[0m \u001b[0m__rmatmul__\u001b[0m\u001b[0;34m(\u001b[0m\u001b[0mself\u001b[0m\u001b[0;34m,\u001b[0m \u001b[0mother\u001b[0m\u001b[0;34m)\u001b[0m\u001b[0;34m:\u001b[0m\u001b[0;34m\u001b[0m\u001b[0;34m\u001b[0m\u001b[0m\n",
      "\u001b[0;32m~/deep/lib/python3.7/site-packages/scipy/sparse/base.py\u001b[0m in \u001b[0;36m__mul__\u001b[0;34m(self, other)\u001b[0m\n\u001b[1;32m    479\u001b[0m             \u001b[0;32mif\u001b[0m \u001b[0mself\u001b[0m\u001b[0;34m.\u001b[0m\u001b[0mshape\u001b[0m\u001b[0;34m[\u001b[0m\u001b[0;36m1\u001b[0m\u001b[0;34m]\u001b[0m \u001b[0;34m!=\u001b[0m \u001b[0mother\u001b[0m\u001b[0;34m.\u001b[0m\u001b[0mshape\u001b[0m\u001b[0;34m[\u001b[0m\u001b[0;36m0\u001b[0m\u001b[0;34m]\u001b[0m\u001b[0;34m:\u001b[0m\u001b[0;34m\u001b[0m\u001b[0;34m\u001b[0m\u001b[0m\n\u001b[1;32m    480\u001b[0m                 \u001b[0;32mraise\u001b[0m \u001b[0mValueError\u001b[0m\u001b[0;34m(\u001b[0m\u001b[0;34m'dimension mismatch'\u001b[0m\u001b[0;34m)\u001b[0m\u001b[0;34m\u001b[0m\u001b[0;34m\u001b[0m\u001b[0m\n\u001b[0;32m--> 481\u001b[0;31m             \u001b[0;32mreturn\u001b[0m \u001b[0mself\u001b[0m\u001b[0;34m.\u001b[0m\u001b[0m_mul_sparse_matrix\u001b[0m\u001b[0;34m(\u001b[0m\u001b[0mother\u001b[0m\u001b[0;34m)\u001b[0m\u001b[0;34m\u001b[0m\u001b[0;34m\u001b[0m\u001b[0m\n\u001b[0m\u001b[1;32m    482\u001b[0m \u001b[0;34m\u001b[0m\u001b[0m\n\u001b[1;32m    483\u001b[0m         \u001b[0;31m# If it's a list or whatever, treat it like a matrix\u001b[0m\u001b[0;34m\u001b[0m\u001b[0;34m\u001b[0m\u001b[0;34m\u001b[0m\u001b[0m\n",
      "\u001b[0;32m~/deep/lib/python3.7/site-packages/scipy/sparse/compressed.py\u001b[0m in \u001b[0;36m_mul_sparse_matrix\u001b[0;34m(self, other)\u001b[0m\n\u001b[1;32m    507\u001b[0m            \u001b[0mnp\u001b[0m\u001b[0;34m.\u001b[0m\u001b[0masarray\u001b[0m\u001b[0;34m(\u001b[0m\u001b[0mother\u001b[0m\u001b[0;34m.\u001b[0m\u001b[0mindptr\u001b[0m\u001b[0;34m,\u001b[0m \u001b[0mdtype\u001b[0m\u001b[0;34m=\u001b[0m\u001b[0midx_dtype\u001b[0m\u001b[0;34m)\u001b[0m\u001b[0;34m,\u001b[0m\u001b[0;34m\u001b[0m\u001b[0;34m\u001b[0m\u001b[0m\n\u001b[1;32m    508\u001b[0m            \u001b[0mnp\u001b[0m\u001b[0;34m.\u001b[0m\u001b[0masarray\u001b[0m\u001b[0;34m(\u001b[0m\u001b[0mother\u001b[0m\u001b[0;34m.\u001b[0m\u001b[0mindices\u001b[0m\u001b[0;34m,\u001b[0m \u001b[0mdtype\u001b[0m\u001b[0;34m=\u001b[0m\u001b[0midx_dtype\u001b[0m\u001b[0;34m)\u001b[0m\u001b[0;34m,\u001b[0m\u001b[0;34m\u001b[0m\u001b[0;34m\u001b[0m\u001b[0m\n\u001b[0;32m--> 509\u001b[0;31m            indptr)\n\u001b[0m\u001b[1;32m    510\u001b[0m \u001b[0;34m\u001b[0m\u001b[0m\n\u001b[1;32m    511\u001b[0m         \u001b[0mnnz\u001b[0m \u001b[0;34m=\u001b[0m \u001b[0mindptr\u001b[0m\u001b[0;34m[\u001b[0m\u001b[0;34m-\u001b[0m\u001b[0;36m1\u001b[0m\u001b[0;34m]\u001b[0m\u001b[0;34m\u001b[0m\u001b[0;34m\u001b[0m\u001b[0m\n",
      "\u001b[0;31mKeyboardInterrupt\u001b[0m: "
     ]
    },
    {
     "data": {
      "image/png": "[encoded data removed]",
      "text/plain": [
       "<Figure size 1080x1080 with 2 Axes>"
      ]
     },
     "metadata": {
      "needs_background": "light"
     },
     "output_type": "display_data"
    }
   ],
   "source": [
    "fig, ax = plt.subplots(1, 2, figsize = (15, 15))\n",
    "\n",
    "ax[0].imshow(backprojection(A, b).reshape(N_length, N_width), cmap='bone')\n",
    "ax[0].set_title('Backprojection')\n",
    "\n",
    "ax[1].imshow(least_squares(A, b).reshape(N_length, N_width), cmap='bone')\n",
    "ax[1].set_title('Least Squares')\n",
    "\n",
    "plt.show()"
   ]
  },
  {
   "cell_type": "code",
   "execution_count": null,
   "metadata": {},
   "outputs": [],
   "source": [
    "def kaczmarz(A, b, n_iter, limits=None, randomize=False, f_0=None):\n",
    "    \"\"\"\n",
    "    Form image via Kaczmarz's algorithm.\n",
    "\n",
    "    Parameters\n",
    "    ----------\n",
    "    A : :py:class:`~scipy.sparse.csr_matrix`\n",
    "        (n_beams, n_pixels) measurement matrix.\n",
    "    b : :py:class:`~numpy.ndarray`\n",
    "        (n_beams,) vector with measurements.\n",
    "    n_iter : int\n",
    "        Number of iterations to perform.\n",
    "    limits : :py:class:`~numpy.ndarray`\n",
    "        (2,) pixel value constraints. \n",
    "        Each pixel of the output image must lie in [`limits[0]`, `limits[1]`].\n",
    "        If `None`, then the range is not restricted.\n",
    "    randomize: bool\n",
    "        Apply a ranomization strategy when applying projections.\n",
    "    f_0 : :py:class:`~numpy.ndarray`\n",
    "        (n_pixels,) initial point of the optimization.\n",
    "        If unspecified, the initial point is set to an all-zero vector.\n",
    "\n",
    "    Returns\n",
    "    -------\n",
    "    f : :py:class:`~numpy.ndarray`\n",
    "        (n_pixels,) vectorized image\n",
    "    \"\"\"\n",
    "    n_beams, n_pixels = A.shape\n",
    "    \n",
    "    f_0 = np.zeros(n_pixels) if (f_0 is None) else f_0\n",
    "    \n",
    "    f = f_0\n",
    "    \n",
    "    if randomize:\n",
    "        prob = [np.linalg.norm(r) for r in A]\n",
    "        prob /= np.linalg.norm(A)\n",
    "    \n",
    "    for it in range(n_iter):\n",
    "        row = np.random.choice(n_beams, p=prob) if randomize else it % n_beams\n",
    "        \n",
    "        r_it, b_it = A[row], b[row]\n",
    "        l = r_it @ r_it\n",
    "        \n",
    "        if ~np.isclose(l, 0):\n",
    "            # `l` can be very small, in which case it is dangerous to do the rescale. \n",
    "            # We'll simply drop these degenerate basis vectors.\n",
    "            scale = (b_it - r_it @ f) / l\n",
    "            f += scale * r_it\n",
    "        \n",
    "        if limits is not None:\n",
    "            # Project onto feasible values\n",
    "            np.clip(f, limits[0], limits[1])\n",
    "\n",
    "    return f\n",
    "\n",
    "n_iter = 2 * b.shape[0]\n",
    "\n",
    "fig, ax = plt.subplots(1, 3, figsize = (15, 15))\n",
    "\n",
    "ax[0].imshow(kaczmarz(A, b, n_iter).reshape(N_length, N_width), cmap='bone')\n",
    "ax[0].set_title('Naive Kaczmarz')\n",
    "\n",
    "ax[1].imshow(kaczmarz(A, b, n_iter).reshape(N_length, N_width), cmap='bone')\n",
    "ax[1].set_title('Randomized Kaczmarz')\n",
    "\n",
    "ax[2].imshow(kaczmarz(A, b, n_iter).reshape(N_length, N_width), cmap='bone')\n",
    "ax[2].set_title('Projected Randomized Kaczmarz')\n",
    "\n",
    "plt.show()"
   ]
  },
  {
   "cell_type": "markdown",
   "metadata": {},
   "source": [
    "## Further instructions\n",
    "\n",
    "You can supply your solution to this practical exercise by sending me (Mihailo) an email with your Jupyter notebook that contains the solutions, which consists of the code and reconstructed images with your observations written in textual form. You can also put your solution on Github or some other publicly accessible repository and send us a link.\n",
    "\n",
    "To keep the amount of sent data to the minimum, to you don't need to include the .mat files that you got in the archive.\n",
    "\n",
    "If you have any question, don't hesitate to ask me during or after a lecture, or just send me an email."
   ]
  }
 ],
 "metadata": {
  "celltoolbar": "Raw Cell Format",
  "kernelspec": {
   "display_name": "Python-deep",
   "language": "python",
   "name": "envname"
  },
  "language_info": {
   "codemirror_mode": {
    "name": "ipython",
    "version": 3
   },
   "file_extension": ".py",
   "mimetype": "text/x-python",
   "name": "python",
   "nbconvert_exporter": "python",
   "pygments_lexer": "ipython3",
   "version": "3.7.3"
  }
 },
 "nbformat": 4,
 "nbformat_minor": 2
}
